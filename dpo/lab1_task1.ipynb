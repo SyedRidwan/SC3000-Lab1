{
 "cells": [
  {
   "cell_type": "markdown",
   "id": "90b741ed-0cfe-49fd-bb9f-fe447b82aaa2",
   "metadata": {},
   "source": [
    "Task 1: Build pos-neg pairs.\n",
    "\n",
    "In this task, we will have to create a dataset that will train our model to answer math problems correctly. The NanoGPT only knows QA type responses. The pos-neg pairs will later be used for DPO fine-tuning."
   ]
  },
  {
   "cell_type": "code",
   "execution_count": 1,
   "id": "208c397b-fb22-457a-933a-6d0cba873217",
   "metadata": {},
   "outputs": [],
   "source": [
    "# import libraries needed for task 1\n",
    "import json\n",
    "import random\n",
    "import math\n",
    "import os\n",
    "import pandas as pd\n",
    "from pathlib import Path"
   ]
  },
  {
   "cell_type": "code",
   "execution_count": 2,
   "id": "2eb9b96b-a7f9-4b1b-99e7-1d94095d8f87",
   "metadata": {},
   "outputs": [],
   "source": [
    "random.seed(42)"
   ]
  },
  {
   "cell_type": "code",
   "execution_count": 3,
   "id": "2dd79a83-21a4-4631-b0a3-4da328f0dd28",
   "metadata": {},
   "outputs": [],
   "source": [
    "# we will save the json file here\n",
    "saveloc = \"C:/Users/syedr/OneDrive/Documents/NTU Semester Resources/NTU Y3S1/SC3000 - Artificial Intelligence/Lab 1/NanoGPT-Math-main/dpo/pos_neg_pairs.json\""
   ]
  },
  {
   "cell_type": "code",
   "execution_count": 4,
   "id": "56186d8a-6c56-4fd8-b35f-78303ef35724",
   "metadata": {},
   "outputs": [
    {
     "name": "stdout",
     "output_type": "stream",
     "text": [
      "No existing data found, starting fresh.\n"
     ]
    }
   ],
   "source": [
    "# Load existing data if the file is there\n",
    "existingdoc = []\n",
    "if os.path.exists(saveloc):\n",
    "    with open(saveloc, \"r\", encoding=\"utf-8\") as file:\n",
    "        existingdoc = json.load(file)\n",
    "    print(f\"Loaded {len(existingdoc)} items from '{saveloc}'\")\n",
    "else:\n",
    "    print(\"No existing data found, starting fresh.\")"
   ]
  },
  {
   "cell_type": "code",
   "execution_count": 5,
   "id": "25648c12-c1fc-44f3-81b0-ac51cb2baeb5",
   "metadata": {},
   "outputs": [],
   "source": [
    "# we need to create some helper functions for the math problems\n",
    "# addition\n",
    "def create_addition_problem(num1, num2):\n",
    "    question = f\"{num1}+{num2}=?\"\n",
    "    answer = num1 + num2\n",
    "    correct_response = f\"{question} The answer is {answer} because {num1}+{num2} equals {answer}.\"\n",
    "    wrong_response = f\"{question} Hmm, I'm not sure!\"\n",
    "    return {\"negative\": wrong_response, \"positive\": correct_response}\n",
    "\n",
    "# subtraction\n",
    "def create_subtraction_problem(num1, num2):\n",
    "    question = f\"{num1}-{num2}=?\"\n",
    "    result = num1 - num2\n",
    "    correct_response = f\"{question} The answer is {result} because {num1}-{num2} equals {result}.\"\n",
    "    wrong_response = f\"{question} Sorry, I don't know the answer!\"\n",
    "    return {\"negative\": wrong_response, \"positive\": correct_response}\n",
    "\n",
    "# multiplication\n",
    "def create_multiplication_problem(a, b):\n",
    "    question = f\"{a}*{b}=?\"\n",
    "    answer = a * b\n",
    "    correct_response = f\"{question} The answer is {answer} because {a}×{b} equals {answer}.\"\n",
    "    wrong_response = f\"{question} Sorry, I don't know!\"\n",
    "    return {\"negative\": wrong_response, \"positive\": correct_response}\n",
    "\n",
    "# division\n",
    "def create_division_problem(dividend, divisor):\n",
    "    if divisor == 0:\n",
    "        divisor = 1  # just make it 1 to keep things simple\n",
    "    \n",
    "    dividend = dividend - (dividend % divisor)\n",
    "    question = f\"{dividend}/{divisor}=?\"\n",
    "    answer = dividend // divisor\n",
    "    \n",
    "    correct_response = f\"{question} The answer is {answer} because {dividend}/{divisor} equals {answer}.\"\n",
    "    # for wrong answers, let's throw in a random guess\n",
    "    random_guess = random.randint(0, 9)\n",
    "    wrong_response = f\"{question} I think it's {random_guess}, but not sure.\"\n",
    "    \n",
    "    return {\"negative\": wrong_response, \"positive\": correct_response}\n",
    "\n",
    "# linear eqns\n",
    "def create_linear_equation(coefficient, constant):\n",
    "    # solving ax + b = c for x\n",
    "    # ax + b = c  -> x = (c - b)/a\n",
    "    if coefficient == 0:\n",
    "        coefficient = 1\n",
    "    \n",
    "    x_value = random.randint(-20, 50)\n",
    "    c_value = coefficient * x_value + constant\n",
    "    \n",
    "    question = f\"{coefficient}*x+{constant}={c_value}, x=?\"\n",
    "    solution = x_value\n",
    "    \n",
    "    correct_response = f\"{question} The answer is {solution} because ({c_value}-{constant})/{coefficient} = {solution}.\"\n",
    "    wrong_response = f\"{question} Sorry, I'm not sure how to solve that.\"\n",
    "    \n",
    "    return {\"negative\": wrong_response, \"positive\": correct_response}"
   ]
  },
  {
   "cell_type": "code",
   "execution_count": 6,
   "id": "4973daf0-78d3-499b-bec2-a7200393f731",
   "metadata": {},
   "outputs": [],
   "source": [
    "# generate the dataset for task 1\n",
    "target_total = 50000\n",
    "need = max(0, target_total - len(existingdoc))\n",
    "\n",
    "pairs = []\n",
    "ops = [\"add\", \"sub\", \"mul\", \"div\", \"linear\"]\n",
    "weights = [0.2, 0.2, 0.2, 0.2, 0.2]\n",
    "\n",
    "for _ in range(need):\n",
    "    op = random.choices(ops, weights=weights)[0]\n",
    "    if op == \"add\":\n",
    "        pairs.append(create_addition_problem(random.randint(0, 999), random.randint(0, 999)))\n",
    "    elif op == \"sub\":\n",
    "        pairs.append(create_subtraction_problem(random.randint(0, 999), random.randint(0, 999)))\n",
    "    elif op == \"mul\":\n",
    "        pairs.append(create_multiplication_problem(random.randint(0, 99), random.randint(0, 20)))\n",
    "    elif op == \"div\":\n",
    "        pairs.append(create_division_problem(random.randint(1, 999), random.randint(1, 20)))\n",
    "    elif op == \"linear\":\n",
    "        pairs.append(create_linear_equation(random.randint(-9, 9) or 1, random.randint(-50, 100)))"
   ]
  },
  {
   "cell_type": "code",
   "execution_count": 7,
   "id": "cb928efc-1253-4040-942a-8c47cc0d92f8",
   "metadata": {},
   "outputs": [],
   "source": [
    "# combine with existing and shuffle\n",
    "combined = existingdoc + pairs\n",
    "random.shuffle(combined)"
   ]
  },
  {
   "cell_type": "code",
   "execution_count": 8,
   "id": "c9d2cc23-fc82-47f2-9560-f984a6e740f5",
   "metadata": {},
   "outputs": [
    {
     "name": "stdout",
     "output_type": "stream",
     "text": [
      "Successfully saved 50000 examples to 'C:/Users/syedr/OneDrive/Documents/NTU Semester Resources/NTU Y3S1/SC3000 - Artificial Intelligence/Lab 1/NanoGPT-Math-main/dpo/pos_neg_pairs.json'.\n"
     ]
    }
   ],
   "source": [
    "# save the combined data to a file\n",
    "with open(saveloc, \"w\", encoding=\"utf-8\") as file:\n",
    "    json.dump(combined, file, indent=2, ensure_ascii=False)\n",
    "\n",
    "# let the user know the save was successful\n",
    "num_examples = len(combined)\n",
    "print(f\"Successfully saved {num_examples} examples to '{saveloc}'.\")"
   ]
  },
  {
   "cell_type": "code",
   "execution_count": 10,
   "id": "3dd937f4-7b6c-4caa-a5a7-4a85ea837ce9",
   "metadata": {},
   "outputs": [
    {
     "data": {
      "text/html": [
       "<div>\n",
       "<style scoped>\n",
       "    .dataframe tbody tr th:only-of-type {\n",
       "        vertical-align: middle;\n",
       "    }\n",
       "\n",
       "    .dataframe tbody tr th {\n",
       "        vertical-align: top;\n",
       "    }\n",
       "\n",
       "    .dataframe thead th {\n",
       "        text-align: right;\n",
       "    }\n",
       "</style>\n",
       "<table border=\"1\" class=\"dataframe\">\n",
       "  <thead>\n",
       "    <tr style=\"text-align: right;\">\n",
       "      <th></th>\n",
       "      <th>negative</th>\n",
       "      <th>positive</th>\n",
       "    </tr>\n",
       "  </thead>\n",
       "  <tbody>\n",
       "    <tr>\n",
       "      <th>0</th>\n",
       "      <td>120/8=? I think it's 6, but not sure.</td>\n",
       "      <td>120/8=? The answer is 15 because 120/8 equals 15.</td>\n",
       "    </tr>\n",
       "    <tr>\n",
       "      <th>1</th>\n",
       "      <td>603/9=? I think it's 3, but not sure.</td>\n",
       "      <td>603/9=? The answer is 67 because 603/9 equals 67.</td>\n",
       "    </tr>\n",
       "    <tr>\n",
       "      <th>2</th>\n",
       "      <td>359-781=? Sorry, I don't know the answer!</td>\n",
       "      <td>359-781=? The answer is -422 because 359-781 e...</td>\n",
       "    </tr>\n",
       "    <tr>\n",
       "      <th>3</th>\n",
       "      <td>7*x+77=259, x=? Sorry, I'm not sure how to sol...</td>\n",
       "      <td>7*x+77=259, x=? The answer is 26 because (259-...</td>\n",
       "    </tr>\n",
       "    <tr>\n",
       "      <th>4</th>\n",
       "      <td>290-341=? Sorry, I don't know the answer!</td>\n",
       "      <td>290-341=? The answer is -51 because 290-341 eq...</td>\n",
       "    </tr>\n",
       "    <tr>\n",
       "      <th>5</th>\n",
       "      <td>81+276=? Hmm, I'm not sure!</td>\n",
       "      <td>81+276=? The answer is 357 because 81+276 equa...</td>\n",
       "    </tr>\n",
       "    <tr>\n",
       "      <th>6</th>\n",
       "      <td>357+717=? Hmm, I'm not sure!</td>\n",
       "      <td>357+717=? The answer is 1074 because 357+717 e...</td>\n",
       "    </tr>\n",
       "    <tr>\n",
       "      <th>7</th>\n",
       "      <td>596-197=? Sorry, I don't know the answer!</td>\n",
       "      <td>596-197=? The answer is 399 because 596-197 eq...</td>\n",
       "    </tr>\n",
       "    <tr>\n",
       "      <th>8</th>\n",
       "      <td>969/19=? I think it's 7, but not sure.</td>\n",
       "      <td>969/19=? The answer is 51 because 969/19 equal...</td>\n",
       "    </tr>\n",
       "    <tr>\n",
       "      <th>9</th>\n",
       "      <td>416+250=? Hmm, I'm not sure!</td>\n",
       "      <td>416+250=? The answer is 666 because 416+250 eq...</td>\n",
       "    </tr>\n",
       "  </tbody>\n",
       "</table>\n",
       "</div>"
      ],
      "text/plain": [
       "                                            negative  \\\n",
       "0              120/8=? I think it's 6, but not sure.   \n",
       "1              603/9=? I think it's 3, but not sure.   \n",
       "2          359-781=? Sorry, I don't know the answer!   \n",
       "3  7*x+77=259, x=? Sorry, I'm not sure how to sol...   \n",
       "4          290-341=? Sorry, I don't know the answer!   \n",
       "5                        81+276=? Hmm, I'm not sure!   \n",
       "6                       357+717=? Hmm, I'm not sure!   \n",
       "7          596-197=? Sorry, I don't know the answer!   \n",
       "8             969/19=? I think it's 7, but not sure.   \n",
       "9                       416+250=? Hmm, I'm not sure!   \n",
       "\n",
       "                                            positive  \n",
       "0  120/8=? The answer is 15 because 120/8 equals 15.  \n",
       "1  603/9=? The answer is 67 because 603/9 equals 67.  \n",
       "2  359-781=? The answer is -422 because 359-781 e...  \n",
       "3  7*x+77=259, x=? The answer is 26 because (259-...  \n",
       "4  290-341=? The answer is -51 because 290-341 eq...  \n",
       "5  81+276=? The answer is 357 because 81+276 equa...  \n",
       "6  357+717=? The answer is 1074 because 357+717 e...  \n",
       "7  596-197=? The answer is 399 because 596-197 eq...  \n",
       "8  969/19=? The answer is 51 because 969/19 equal...  \n",
       "9  416+250=? The answer is 666 because 416+250 eq...  "
      ]
     },
     "metadata": {},
     "output_type": "display_data"
    }
   ],
   "source": [
    "# preview a few examples\n",
    "df_preview = pd.DataFrame(combined[:10])\n",
    "display(df_preview)"
   ]
  },
  {
   "cell_type": "markdown",
   "id": "585a2dab-2710-4ed5-9fd6-6e305e8d8d57",
   "metadata": {},
   "source": [
    "By completing task 1, we have generated a total of 50,000 pos-neg pairs for DPO training in the later tasks."
   ]
  },
  {
   "cell_type": "code",
   "execution_count": null,
   "id": "e31ca96c-46f5-4537-9e9b-a67eefa66c84",
   "metadata": {},
   "outputs": [],
   "source": []
  }
 ],
 "metadata": {
  "kernelspec": {
   "display_name": "Python 3 (ipykernel)",
   "language": "python",
   "name": "python3"
  },
  "language_info": {
   "codemirror_mode": {
    "name": "ipython",
    "version": 3
   },
   "file_extension": ".py",
   "mimetype": "text/x-python",
   "name": "python",
   "nbconvert_exporter": "python",
   "pygments_lexer": "ipython3",
   "version": "3.11.7"
  }
 },
 "nbformat": 4,
 "nbformat_minor": 5
}
